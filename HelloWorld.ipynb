{
 "cells": [
  {
   "cell_type": "code",
   "execution_count": 1,
   "id": "a40bae8f-3205-45b5-a412-1bc6af476f95",
   "metadata": {},
   "outputs": [
    {
     "name": "stdout",
     "output_type": "stream",
     "text": [
      "Hello World!\n"
     ]
    }
   ],
   "source": [
    "print(\"Hello World!\")"
   ]
  },
  {
   "cell_type": "markdown",
   "id": "6cdc7834-10fb-4a61-8875-81c2a1ec50c8",
   "metadata": {},
   "source": [
    "# This is a heading"
   ]
  },
  {
   "cell_type": "markdown",
   "id": "88086a33-f60d-4b64-9ed9-6f51082c0cf6",
   "metadata": {},
   "source": [
    "**Bold text**"
   ]
  },
  {
   "cell_type": "code",
   "execution_count": 1,
   "id": "aa6c9123-2247-4135-9269-9519d986e5a8",
   "metadata": {},
   "outputs": [
    {
     "name": "stdout",
     "output_type": "stream",
     "text": [
      "Hello friends!\n"
     ]
    }
   ],
   "source": [
    "print(\"Hello friends!\")"
   ]
  },
  {
   "cell_type": "code",
   "execution_count": null,
   "id": "f967031f-f80d-4963-99d5-5904d406c88a",
   "metadata": {},
   "outputs": [],
   "source": []
  }
 ],
 "metadata": {
  "kernelspec": {
   "display_name": "Python 3 (ipykernel)",
   "language": "python",
   "name": "python3"
  },
  "language_info": {
   "codemirror_mode": {
    "name": "ipython",
    "version": 3
   },
   "file_extension": ".py",
   "mimetype": "text/x-python",
   "name": "python",
   "nbconvert_exporter": "python",
   "pygments_lexer": "ipython3",
   "version": "3.11.7"
  }
 },
 "nbformat": 4,
 "nbformat_minor": 5
}
